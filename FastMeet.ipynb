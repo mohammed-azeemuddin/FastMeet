{
 "cells": [
  {
   "cell_type": "code",
   "execution_count": 2,
   "metadata": {},
   "outputs": [
    {
     "ename": "SyntaxError",
     "evalue": "invalid syntax (<ipython-input-2-b437cc21156f>, line 4)",
     "output_type": "error",
     "traceback": [
      "\u001b[1;36m  File \u001b[1;32m\"<ipython-input-2-b437cc21156f>\"\u001b[1;36m, line \u001b[1;32m4\u001b[0m\n\u001b[1;33m    from ./user_details import *\u001b[0m\n\u001b[1;37m          ^\u001b[0m\n\u001b[1;31mSyntaxError\u001b[0m\u001b[1;31m:\u001b[0m invalid syntax\n"
     ]
    }
   ],
   "source": [
    "from selenium import webdriver\n",
    "from getpass import getpass\n",
    "from selenium.webdriver.common.keys import Keys\n",
    "\n",
    "import sys\n",
    "\n",
    "from ./user_details import *"
   ]
  },
  {
   "cell_type": "code",
   "execution_count": 66,
   "metadata": {},
   "outputs": [],
   "source": [
    "import time\n",
    "import win32com.client"
   ]
  },
  {
   "cell_type": "code",
   "execution_count": 67,
   "metadata": {},
   "outputs": [],
   "source": [
    "driver = webdriver.Chrome(\"./chromedriver.exe\")\n",
    "driver.get(myurl)\n",
    "driver.implicitly_wait(5)"
   ]
  },
  {
   "cell_type": "code",
   "execution_count": 68,
   "metadata": {},
   "outputs": [],
   "source": [
    "meeting_pass=driver.find_element_by_xpath('//*[@id=\"ipt-joinmeeting\"]')\n",
    "meeting_pass.send_keys(meet_pass)\n",
    "submit_btn = driver.find_element_by_xpath('//*[@id=\"join_btn\"]').click()\n",
    "time.sleep(5)"
   ]
  },
  {
   "cell_type": "code",
   "execution_count": 69,
   "metadata": {},
   "outputs": [],
   "source": [
    "user_pass = driver.find_element_by_xpath('//*[@id=\"meetingInfoPassword\"]')\n",
    "user_pass.send_keys(user_password)\n",
    "driver.implicitly_wait(5)"
   ]
  },
  {
   "cell_type": "code",
   "execution_count": 70,
   "metadata": {
    "scrolled": true
   },
   "outputs": [],
   "source": [
    "login_form = driver.find_element_by_xpath(\"//button[@type='submit']\").click()\n",
    "driver.implicitly_wait(5)"
   ]
  },
  {
   "cell_type": "code",
   "execution_count": 71,
   "metadata": {},
   "outputs": [],
   "source": [
    "openDropDown = driver.find_element_by_class_name('el-dropdown__caret-button').click()\n",
    "driver.implicitly_wait(5)\n",
    "shell = win32com.client.Dispatch(\"WScript.Shell\")\n",
    "time.sleep(2)\n",
    "shell.Sendkeys(\"{DOWN}\")\n",
    "time.sleep(2)\n",
    "shell.Sendkeys(\"{DOWN}\")\n",
    "time.sleep(2)\n",
    "shell.Sendkeys(\"{DOWN}\")\n",
    "time.sleep(2)\n",
    "shell.Sendkeys(\"{ENTER}\")\n",
    "shell.SendKeys(\"{ENTER}\")\n",
    "time.sleep(5)"
   ]
  },
  {
   "cell_type": "code",
   "execution_count": 72,
   "metadata": {},
   "outputs": [],
   "source": [
    "join_btn = driver.find_element_by_xpath('//*[@id=\"smartJoinButton-trigger\"]/div/button[1]')\n",
    "join_btn.click()\n",
    "driver.implicitly_wait(3)"
   ]
  },
  {
   "cell_type": "code",
   "execution_count": 73,
   "metadata": {},
   "outputs": [],
   "source": [
    "# shell = win32com.client.Dispatch(\"WScript.Shell\")\n",
    "# time.sleep(2)\n",
    "# shell.Sendkeys(\"{LEFT}\")\n",
    "# time.sleep(2)\n",
    "# shell.Sendkeys(\"{ENTER}\")"
   ]
  },
  {
   "cell_type": "code",
   "execution_count": 74,
   "metadata": {},
   "outputs": [],
   "source": [
    "iframe=driver.find_element_by_xpath('//*[@id=\"pbui_iframe\"]')\n",
    "driver.switch_to.frame(iframe)"
   ]
  },
  {
   "cell_type": "code",
   "execution_count": 75,
   "metadata": {},
   "outputs": [],
   "source": [
    "full_name=driver.find_element_by_xpath('//*[@id=\"meetingSimpleContainer\"]/div[2]/div[2]/input')\n",
    "full_name.send_keys(my_full_name)"
   ]
  },
  {
   "cell_type": "code",
   "execution_count": 76,
   "metadata": {},
   "outputs": [],
   "source": [
    "email_address=driver.find_element_by_xpath('//*[@id=\"meetingSimpleContainer\"]/div[2]/div[3]/input')\n",
    "email_address.send_keys(email_id)"
   ]
  },
  {
   "cell_type": "code",
   "execution_count": 77,
   "metadata": {},
   "outputs": [],
   "source": [
    "next_btn = driver.find_element_by_id('guest_next-btn').click()"
   ]
  },
  {
   "cell_type": "code",
   "execution_count": 78,
   "metadata": {},
   "outputs": [],
   "source": [
    "driver.switch_to.default_content()\n",
    "iframe=driver.find_element_by_xpath('//*[@id=\"pbui_iframe\"]')\n",
    "driver.switch_to.frame(iframe)\n",
    "time.sleep(1)"
   ]
  },
  {
   "cell_type": "code",
   "execution_count": 79,
   "metadata": {},
   "outputs": [],
   "source": [
    "driver.find_element_by_id('interstitial_join_btn').click()"
   ]
  },
  {
   "cell_type": "code",
   "execution_count": null,
   "metadata": {},
   "outputs": [],
   "source": []
  }
 ],
 "metadata": {
  "kernelspec": {
   "display_name": "Python 3",
   "language": "python",
   "name": "python3"
  },
  "language_info": {
   "codemirror_mode": {
    "name": "ipython",
    "version": 3
   },
   "file_extension": ".py",
   "mimetype": "text/x-python",
   "name": "python",
   "nbconvert_exporter": "python",
   "pygments_lexer": "ipython3",
   "version": "3.8.5"
  }
 },
 "nbformat": 4,
 "nbformat_minor": 4
}
