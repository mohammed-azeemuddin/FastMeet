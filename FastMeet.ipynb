{
 "cells": [
  {
   "cell_type": "code",
   "execution_count": 48,
   "metadata": {},
   "outputs": [],
   "source": [
    "from selenium import webdriver\n",
    "from getpass import getpass\n",
    "from selenium.webdriver.common.keys import Keys"
   ]
  },
  {
   "cell_type": "code",
   "execution_count": 49,
   "metadata": {},
   "outputs": [],
   "source": [
    "import sys\n",
    "sys.path.insert(1, '/dir')\n",
    "from user_details import *"
   ]
  },
  {
   "cell_type": "code",
   "execution_count": 50,
   "metadata": {},
   "outputs": [],
   "source": [
    "import time\n",
    "import win32com.client"
   ]
  },
  {
   "cell_type": "code",
   "execution_count": 52,
   "metadata": {},
   "outputs": [
    {
     "name": "stdout",
     "output_type": "stream",
     "text": [
      "Hello Maheen\n"
     ]
    }
   ],
   "source": [
    "import pyttsx3\n",
    "\n",
    "engine = pyttsx3.init()\n",
    "x='Hello'\n",
    "engine.say(x)\n",
    "print(x)"
   ]
  },
  {
   "cell_type": "code",
   "execution_count": null,
   "metadata": {},
   "outputs": [],
   "source": [
    "def connect_to_meet():\n",
    "    driver = webdriver.Chrome(\"./chromedriver.exe\")\n",
    "    driver.get(myurl)\n",
    "    driver.implicitly_wait(5)\n",
    "    meeting_pass=driver.find_element_by_xpath('//*[@id=\"ipt-joinmeeting\"]')\n",
    "    meeting_pass.send_keys(meet_pass)\n",
    "    submit_btn = driver.find_element_by_xpath('//*[@id=\"join_btn\"]').click()\n",
    "    time.sleep(5)\n",
    "    user_pass = driver.find_element_by_xpath('//*[@id=\"meetingInfoPassword\"]')\n",
    "    user_pass.send_keys(user_password)\n",
    "    driver.implicitly_wait(5)\n",
    "    login_form = driver.find_element_by_xpath(\"//button[@type='submit']\").click()\n",
    "    driver.implicitly_wait(5)\n",
    "    openDropDown = driver.find_element_by_class_name('el-dropdown__caret-button').click()\n",
    "    driver.implicitly_wait(5)\n",
    "    shell = win32com.client.Dispatch(\"WScript.Shell\")\n",
    "    time.sleep(2)\n",
    "    shell.Sendkeys(\"{DOWN}\")\n",
    "    time.sleep(2)\n",
    "    shell.Sendkeys(\"{DOWN}\")\n",
    "    time.sleep(2)\n",
    "    shell.Sendkeys(\"{DOWN}\")\n",
    "    time.sleep(2)\n",
    "    shell.Sendkeys(\"{ENTER}\")\n",
    "    shell.SendKeys(\"{ENTER}\")\n",
    "    time.sleep(5)\n",
    "    join_btn = driver.find_element_by_xpath('//*[@id=\"smartJoinButton-trigger\"]/div/button[1]')\n",
    "    join_btn.click()\n",
    "    driver.implicitly_wait(3)\n",
    "    iframe=driver.find_element_by_xpath('//*[@id=\"pbui_iframe\"]')\n",
    "    driver.switch_to.frame(iframe)\n",
    "    full_name=driver.find_element_by_xpath('//*[@id=\"meetingSimpleContainer\"]/div[2]/div[2]/input')\n",
    "    full_name.send_keys(my_full_name)\n",
    "    email_address=driver.find_element_by_xpath('//*[@id=\"meetingSimpleContainer\"]/div[2]/div[3]/input')\n",
    "    email_address.send_keys(email_id)\n",
    "    next_btn = driver.find_element_by_id('guest_next-btn').click()\n",
    "    driver.switch_to.default_content()\n",
    "    iframe=driver.find_element_by_xpath('//*[@id=\"pbui_iframe\"]')\n",
    "    driver.switch_to.frame(iframe)\n",
    "    time.sleep(1)\n",
    "    driver.find_element_by_id('interstitial_join_btn').click()"
   ]
  },
  {
   "cell_type": "code",
   "execution_count": 35,
   "metadata": {},
   "outputs": [],
   "source": [
    "# driver = webdriver.Chrome(\"./chromedriver.exe\")\n",
    "# driver.get(myurl)\n",
    "# driver.implicitly_wait(5)"
   ]
  },
  {
   "cell_type": "code",
   "execution_count": 36,
   "metadata": {},
   "outputs": [],
   "source": [
    "# meeting_pass=driver.find_element_by_xpath('//*[@id=\"ipt-joinmeeting\"]')\n",
    "# meeting_pass.send_keys(meet_pass)\n",
    "# submit_btn = driver.find_element_by_xpath('//*[@id=\"join_btn\"]').click()\n",
    "# time.sleep(5)"
   ]
  },
  {
   "cell_type": "code",
   "execution_count": 37,
   "metadata": {},
   "outputs": [],
   "source": [
    "# user_pass = driver.find_element_by_xpath('//*[@id=\"meetingInfoPassword\"]')\n",
    "# user_pass.send_keys(user_password)\n",
    "# driver.implicitly_wait(5)"
   ]
  },
  {
   "cell_type": "code",
   "execution_count": 38,
   "metadata": {
    "scrolled": true
   },
   "outputs": [],
   "source": [
    "# login_form = driver.find_element_by_xpath(\"//button[@type='submit']\").click()\n",
    "# driver.implicitly_wait(5)"
   ]
  },
  {
   "cell_type": "code",
   "execution_count": 39,
   "metadata": {},
   "outputs": [],
   "source": [
    "# openDropDown = driver.find_element_by_class_name('el-dropdown__caret-button').click()\n",
    "# driver.implicitly_wait(5)\n",
    "# shell = win32com.client.Dispatch(\"WScript.Shell\")\n",
    "# time.sleep(2)\n",
    "# shell.Sendkeys(\"{DOWN}\")\n",
    "# time.sleep(2)\n",
    "# shell.Sendkeys(\"{DOWN}\")\n",
    "# time.sleep(2)\n",
    "# shell.Sendkeys(\"{DOWN}\")\n",
    "# time.sleep(2)\n",
    "# shell.Sendkeys(\"{ENTER}\")\n",
    "# shell.SendKeys(\"{ENTER}\")\n",
    "# time.sleep(5)"
   ]
  },
  {
   "cell_type": "code",
   "execution_count": 40,
   "metadata": {},
   "outputs": [],
   "source": [
    "# join_btn = driver.find_element_by_xpath('//*[@id=\"smartJoinButton-trigger\"]/div/button[1]')\n",
    "# join_btn.click()\n",
    "# driver.implicitly_wait(3)"
   ]
  },
  {
   "cell_type": "code",
   "execution_count": 41,
   "metadata": {},
   "outputs": [],
   "source": [
    "# shell = win32com.client.Dispatch(\"WScript.Shell\")\n",
    "# time.sleep(2)\n",
    "# shell.Sendkeys(\"{LEFT}\")\n",
    "# time.sleep(2)\n",
    "# shell.Sendkeys(\"{ENTER}\")"
   ]
  },
  {
   "cell_type": "code",
   "execution_count": 42,
   "metadata": {},
   "outputs": [],
   "source": [
    "# iframe=driver.find_element_by_xpath('//*[@id=\"pbui_iframe\"]')\n",
    "# driver.switch_to.frame(iframe)"
   ]
  },
  {
   "cell_type": "code",
   "execution_count": 43,
   "metadata": {},
   "outputs": [],
   "source": [
    "# full_name=driver.find_element_by_xpath('//*[@id=\"meetingSimpleContainer\"]/div[2]/div[2]/input')\n",
    "# full_name.send_keys(my_full_name)"
   ]
  },
  {
   "cell_type": "code",
   "execution_count": 44,
   "metadata": {},
   "outputs": [],
   "source": [
    "# email_address=driver.find_element_by_xpath('//*[@id=\"meetingSimpleContainer\"]/div[2]/div[3]/input')\n",
    "# email_address.send_keys(email_id)"
   ]
  },
  {
   "cell_type": "code",
   "execution_count": 45,
   "metadata": {},
   "outputs": [],
   "source": [
    "# next_btn = driver.find_element_by_id('guest_next-btn').click()"
   ]
  },
  {
   "cell_type": "code",
   "execution_count": 46,
   "metadata": {},
   "outputs": [],
   "source": [
    "# driver.switch_to.default_content()\n",
    "# iframe=driver.find_element_by_xpath('//*[@id=\"pbui_iframe\"]')\n",
    "# driver.switch_to.frame(iframe)\n",
    "# time.sleep(1)"
   ]
  },
  {
   "cell_type": "code",
   "execution_count": 47,
   "metadata": {},
   "outputs": [],
   "source": [
    "# driver.find_element_by_id('interstitial_join_btn').click()"
   ]
  },
  {
   "cell_type": "code",
   "execution_count": null,
   "metadata": {},
   "outputs": [],
   "source": []
  }
 ],
 "metadata": {
  "kernelspec": {
   "display_name": "Python 3",
   "language": "python",
   "name": "python3"
  },
  "language_info": {
   "codemirror_mode": {
    "name": "ipython",
    "version": 3
   },
   "file_extension": ".py",
   "mimetype": "text/x-python",
   "name": "python",
   "nbconvert_exporter": "python",
   "pygments_lexer": "ipython3",
   "version": "3.8.5"
  }
 },
 "nbformat": 4,
 "nbformat_minor": 4
}
